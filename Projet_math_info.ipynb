{
 "cells": [
  {
   "cell_type": "raw",
   "metadata": {},
   "source": [
    "On pose g:t-->f(0,t). La condition raisonnable est que c soit compris entre g(0) et g(1). En effet, f est \n",
    "continuement différentiable, donc continue. On peut appliquer le TVI sur l'intervalle [0;1]."
   ]
  },
  {
   "cell_type": "code",
   "execution_count": null,
   "metadata": {},
   "outputs": [],
   "source": [
    "from maths import abs\n",
    "\n",
    "def find_seed(g, c=0, eps=2**(-26)):\n",
    "    \n",
    "    \"\"\"On réalise une dichotomie pour trouver une racine de g(t)-c\"\"\"\n",
    "    \n",
    "    a = 0\n",
    "    b = 1\n",
    "    t = (a+b)/2\n",
    "    \n",
    "    if g(0) > g(1):\n",
    "        if c > g(0) or c < g(1):\n",
    "            return(None)\n",
    "        \n",
    "        while abs(g(t)-c) > eps:\n",
    "            if g(t) > c:\n",
    "                a = t\n",
    "            else:\n",
    "                b = t\n",
    "            t = (a+b)/2\n",
    "\n",
    "    else :\n",
    "        if c < g(0) or c > g(1):\n",
    "            return(None)\n",
    "        \n",
    "        while abs(g(t)-c) > eps:\n",
    "            if g(t) > c:\n",
    "                b = t\n",
    "            else:\n",
    "                a = t\n",
    "            t = (a+b)/2\n",
    "            \n",
    "    return(t)"
   ]
  },
  {
   "cell_type": "markdown",
   "metadata": {},
   "source": [
    "\n",
    "L'algorithme précédent fonctionne, mais il ne permet pas de traiter tous les types de courbes (ligne de niveau qui fait \"demi-tour\"). Il faut donc modifier l'algorithme en passant par une autre méthode. Nous allons utiliser le gradient de la fonction f : les lignes de niveau sont perpendiculaires au gradient. A chaque point, on calcule le gradient local [a;b] et on veut que le nouveau point [x[n];y[n]] vérifie deux conditions :\n",
    "a*x[n] + b*y[n] = 0 (ligne de niveau perpendiculaire au gradient)\n",
    "(x[n]-x[n-1])^2 + (y[n]-y[n-1])^2 = delta^2 (le nouveau point appartient au cercle de centre l'ancien point ; ainsi on est sûrs que la distance entre deux points sera de delta). On va résoudre ce système à l'aide des polynômes Python.\n",
    "Il va falloir choisir entre les deux solutions proposées : pour ce faire on regarde quelle solution  \n"
   ]
  },
  {
   "cell_type": "code",
   "execution_count": null,
   "metadata": {},
   "outputs": [],
   "source": [
    "def le_plus_loin(X, Y, x1, x2, y1, y2):\n",
    "    \"\"\"On va faire appel à cette fonction pour déterminer laquelle des deux solutions garder\"\"\"\n",
    "    \n",
    "    x = X[-2]\n",
    "    y = Y[-2]\n",
    "    d1 = (x1-x)**2 + (y1-y)**2\n",
    "    d2 = (x2-x)**2 + (y2-y)**2\n",
    "    if d1 > d2:\n",
    "        return(x1, y1)\n",
    "    return(x2, y2)"
   ]
  },
  {
   "cell_type": "code",
   "execution_count": null,
   "metadata": {},
   "outputs": [],
   "source": [
    "def grad_f(f,x,y):\n",
    "    \"\"\"La fonction pour calculer le gradient d'une fonction à deux variables\"\"\"\n",
    "    \n",
    "            g = autograd.grad\n",
    "            return(np.r_[g(f,0)(x,y),g(f,1)(x,y)])"
   ]
  },
  {
   "cell_type": "code",
   "execution_count": null,
   "metadata": {},
   "outputs": [],
   "source": [
    "def simple_contour(f, c=0.0, delta=0.01):\n",
    "    X = []\n",
    "    Y = []\n",
    "    g = lambda t: f(0,t)\n",
    "    X.append(0)\n",
    "    Y.append(find_seed(g, c, 2**(-26))\n",
    "    if Y[-1] == None:\n",
    "        return([], [])\n",
    "    \n",
    "    for k in range(100): #condition d'arrêt, pas encore optimale\n",
    "        \n",
    "        a,b = grad_f(X[-1],Y[-1])\n",
    "        x0 = X[-1]\n",
    "        y0 = Y[-1]\n",
    "        \n",
    "        if a != 0 :\n",
    "             p = Polynomial(-delta**2+y0**2+x0**2, 2*b*x0/a-2*y0, b**2/a**2+1)\n",
    "             y1, y2 = p.roots()\n",
    "             \n",
    "             if y1.imag != 0 or y2.imag != 0:\n",
    "                 return(X,Y) #il n'y a plus de solution réelle, donc le système n'a plus de solutions\n",
    "             \n",
    "             x1 = -b*y1/a\n",
    "             x2 = -b*y2/a\n",
    "             x, y = le_plus_loin(X, Y, x1, x2, y1, y2)\n",
    "             X.append(x)\n",
    "             Y.append(y)\n",
    "\n",
    "        elif b != 0:\n",
    "             Y.append(0)\n",
    "             p = Polynomial(y0**2-delta**2, -2*x0, 1)\n",
    "             x1, x2 = p.roots()\n",
    "             \n",
    "             if x1.imag != 0 or x2.imag != 0:\n",
    "                 return(X,Y)\n",
    "             \n",
    "             x = le_plus_loin(X, Y, x1, x2, 0, 0)\n",
    "             X.append(x)\n",
    "             \n",
    "        elif b == 0:\n",
    "             return(X, Y)\n",
    "    \n",
    "    return(X, Y)\n",
    "             \n",
    "               "
   ]
  }
 ],
 "metadata": {
  "kernelspec": {
   "display_name": "Python 3",
   "language": "python",
   "name": "python3"
  },
  "language_info": {
   "codemirror_mode": {
    "name": "ipython",
    "version": 3
   },
   "file_extension": ".py",
   "mimetype": "text/x-python",
   "name": "python",
   "nbconvert_exporter": "python",
   "pygments_lexer": "ipython3",
   "version": "3.7.3"
  }
 },
 "nbformat": 4,
 "nbformat_minor": 2
}
