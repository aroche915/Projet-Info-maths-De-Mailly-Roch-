{
 "cells": [
  {
   "cell_type": "code",
   "execution_count": null,
   "metadata": {},
   "outputs": [],
   "source": [
    "#on importe les fonctions nécessaires pour la suite\n",
    "\n",
    "import autograd\n",
    "from autograd import numpy as np\n",
    "from numpy.polynomial import Polynomial\n",
    "from math import sqrt\n",
    "import matplotlib.pyplot as plt"
   ]
  },
  {
   "cell_type": "markdown",
   "metadata": {},
   "source": [
    "On pose g:t-->f(0,t). La condition raisonnable est que c soit compris entre g(0) et g(1). En effet, f est \n",
    "continuement différentiable, donc continue. On peut appliquer le TVI sur l'intervalle [0;1]."
   ]
  },
  {
   "cell_type": "code",
   "execution_count": null,
   "metadata": {
    "collapsed": true
   },
   "outputs": [],
   "source": [
    "def find_seed(g, c=0, a=0, b=1, eps=2**(-26)):\n",
    "    \n",
    "    \"\"\"On réalise une dichotomie pour trouver une racine de g(t)-c. Les paramètres de la fonction ont été\n",
    "    légèrement modifiés afin qu'elle soit plus facilement utilisable par la suite.\"\"\"\n",
    "    \n",
    "    t = (a+b)/2\n",
    "    \n",
    "    if g(a) > g(b):\n",
    "        if c > g(a) or c < g(b):\n",
    "            return(None)\n",
    "        \n",
    "        while b-a > eps: #on veut une précision inférieure à eps\n",
    "            if g(t) > c:\n",
    "                a = t\n",
    "            else:\n",
    "                b = t\n",
    "            t = (a+b)/2\n",
    "\n",
    "    else :\n",
    "        if c < g(a) or c > g(b):\n",
    "            return(None)\n",
    "        \n",
    "        while b-a > eps:\n",
    "            if g(t) > c:\n",
    "                b = t\n",
    "            else:\n",
    "                a = t\n",
    "            t = (a+b)/2\n",
    "            \n",
    "    return(t)"
   ]
  },
  {
   "cell_type": "markdown",
   "metadata": {},
   "source": [
    "\n",
    "L'algorithme précédent fonctionne, mais il ne permet pas de traiter tous les types de courbes (ligne de niveau qui fait \"demi-tour\"). Il faut donc modifier l'algorithme en passant par une autre méthode. Nous allons utiliser le gradient de la fonction f : les lignes de niveau sont perpendiculaires au gradient. A chaque point, on calcule le gradient local [a;b] et on veut que le nouveau point [x[n];y[n]] vérifie deux conditions :\n",
    "\n",
    "a*(x[n]-x[n-1]) + b*(y[n]-y[n-1]) = 0 (1) (ligne de niveau perpendiculaire au gradient)\n",
    "\n",
    "(x[n]-x[n-1])^2 + (y[n]-y[n-1])^2 = delta^2 (2) (le nouveau point appartient au cercle de rayon delta et de centre l'ancien point ; ainsi on est sûrs que la distance entre deux points sera de delta). \n",
    "\n",
    "On va résoudre ce système à l'aide des polynômes Python.\n",
    "Il va falloir choisir entre les deux solutions proposées.\n"
   ]
  },
  {
   "cell_type": "code",
   "execution_count": null,
   "metadata": {
    "collapsed": true
   },
   "outputs": [],
   "source": [
    "def le_plus_loin(X, Y, x1, x2, y1, y2):\n",
    "    \"\"\"On va faire appel à cette fonction pour déterminer laquelle des deux solutions garder ; son principe est\n",
    "    explicité par la suite\"\"\"\n",
    "    \n",
    "    x = X[-2]\n",
    "    y = Y[-2]\n",
    "    d1 = (x1-x)**2 + (y1-y)**2\n",
    "    d2 = (x2-x)**2 + (y2-y)**2\n",
    "    if d1 > d2:\n",
    "        return(x1, y1)\n",
    "    return(x2, y2)"
   ]
  },
  {
   "cell_type": "code",
   "execution_count": null,
   "metadata": {
    "collapsed": true
   },
   "outputs": [],
   "source": [
    "def grad_f(f,x,y):\n",
    "    \"\"\"La fonction pour calculer le gradient d'une fonction à deux variables\"\"\"\n",
    "    g = autograd.grad\n",
    "    return(np.r_[g(f,0)(x,y),g(f,1)(x,y)])"
   ]
  },
  {
   "cell_type": "code",
   "execution_count": null,
   "metadata": {},
   "outputs": [],
   "source": [
    "def parcours(g, alpha, beta, pas, c, delta):\n",
    "    theta = alpha\n",
    "    while theta < beta and abs(g(theta)-c) > pas/2:\n",
    "        \n",
    "        theta = theta + pas/delta\n",
    "    \n",
    "\n",
    "    return(theta)"
   ]
  },
  {
   "cell_type": "code",
   "execution_count": null,
   "metadata": {
    "collapsed": true
   },
   "outputs": [],
   "source": [
    "def simple_contour(f, c=0.0, delta=0.01):\n",
    "    X = []\n",
    "    Y = []\n",
    "    g = lambda t: f(0.0,t)\n",
    "    X.append(0.0)\n",
    "    Y.append(find_seed(g, c, 2**(-26)))\n",
    "    if Y[-1] == None:\n",
    "        return([], [])\n",
    "    \n",
    "    for k in range(100): #condition d'arrêt, pas encore optimale\n",
    "        \n",
    "        a,b = grad_f(f,X[-1],Y[-1])\n",
    "        x0 = X[-1]\n",
    "        y0 = Y[-1]\n",
    "   \n",
    "\n",
    "#on va se servir des polynômes Python afin de résoudre le système de 2 équations à 2 inconnues explicité plus haut.\n",
    "\n",
    "        if abs(a) >= (2**-13) : #si a est trop petit, le coefficient directeur de la droite sera disproportionné\n",
    "                                #par rapport à l'ordonnée à l'origine de la droite\n",
    "             p = Polynomial([y0**2-(delta*a/b)**2, -2*y0, 1])\n",
    "             y1, y2 = p.roots()\n",
    "             \n",
    "             if y1.imag != 0.0:\n",
    "                 return(X,Y) #il n'y a plus de solution\n",
    "             \n",
    "             x1 = x0-b*(y1-y0)/a\n",
    "             x2 = x0-b*(y2-y0)/a\n",
    "                \n",
    "             if k == 0:\n",
    "            #on verra dans la suite que notre fonction le_plus_loin nécessite d'avoir 2 points dans X et Y\n",
    "            #on initialise donc manuellement le_plus_loin en choisissant arbitrairement le sens de parcours\n",
    "                Y.append(max(y1,y2))\n",
    "                X.append(x0-b*(max(y1,y2)-y0)/a)\n",
    "                \n",
    "                \n",
    "#On a deux solutions au système (rang n+1), on veut n'en garder qu'une. On regarde quel point est le plus éloigné \n",
    "#du point trouvé au rang n-1, pour s'assurer qu'on ne revient pas en arrière. Pour cela on utilise \n",
    "#le_plus_loin, définie plus haut.\n",
    "\n",
    "\n",
    "             else:\n",
    "                x, y = le_plus_loin(X, Y, x1, x2, y1, y2)\n",
    "            \n",
    "             \n",
    "             \n",
    "#Problème : le point trouvé peut être en réalité assez éloigné de la courbe de niveau, à cause de variations\n",
    "#fortes de f. Pour y remédier, nous proposons la démarche suivante :\n",
    "#On a trouvé \" vers où\" se situait notre prochain point. On va parcourir le cercle de centre X[-1] et de \n",
    "#rayon delta uniquement du côté de la courbe qui nous intéresse, i.e à droite où à gauche de l'orthogonal au gradient. \n",
    "#Pour ce faire,on passe en coordonnées polaires : x = rcos(teta) et y = rsin(teta). Avec r la distance algébrique entre\n",
    "#nos 2 points (ce qui nous permet d'être d'un côté ou de l'autre) et teta variant de alpha + pi/2 à alpha + 3pi/2 \n",
    "#alpha étant l'angle entre le gradient et l'axe des abscisses. En définissant ansi teta, on est sûr de parcourir le \n",
    "#demi-cercle de base l'orthogonal du gradient.\n",
    "             \n",
    "                alpha = sqrt(a**2+b**2)/a\n",
    "             \n",
    "                sgn = np.sign(x-x0) # on détermine la direction vers laquelle se déplacer\n",
    "                r = sgn*delta\n",
    "                g = lambda theta: f(r*np.cos(theta),r*np.sin(theta))\n",
    "             \n",
    "                theta = parcours(g, alpha+np.pi/2.0, alpha+3.0*np.pi/2.0, 2**(-26), c, delta)\n",
    "                x = x0 + r*np.cos(theta)\n",
    "                y = y0 + r*np.sin(theta)\n",
    "             \n",
    "                X.append(x)\n",
    "                Y.append(y)\n",
    "\n",
    "        elif b != 0.0:\n",
    "#d'après l'équation (1) (cf plus haut) y = y0\n",
    "             Y.append(y0)\n",
    "             p = Polynomial([x0**2-delta**2, -2*x0, 1])\n",
    "             x1, x2 = p.roots()\n",
    "             \n",
    "             if x1.imag != 0.0:\n",
    "                 Y.pop()\n",
    "                 return(X,Y)\n",
    "            \n",
    "             if k == 0:\n",
    "                X.append(max(x1,x2))\n",
    "                \n",
    "             else:\n",
    "                \n",
    "                x, z = le_plus_loin(X, Y, x1, x2, y0, y0)\n",
    "             \n",
    "                sgn = np.sign(x-x0) # on détermine la direction vers laquelle se déplacer\n",
    "                r = sgn*delta\n",
    "                g = lambda teta: f(r*np.cos(teta),r*np.sin(teta))\n",
    "             \n",
    "                theta = parcours(g, 0.0, np.pi, 2**(-26), c, delta)\n",
    "                x = x0 + r*np.cos(theta)\n",
    "             \n",
    "                X.append(x)\n",
    "             \n",
    "        elif b == 0.0:\n",
    "             return(X, Y)\n",
    "    \n",
    "    return(X, Y)\n",
    "                   "
   ]
  },
  {
   "cell_type": "markdown",
   "metadata": {},
   "source": [
    "Testons maintenant nos algorithmes avec plusieurs fonctions"
   ]
  },
  {
   "cell_type": "code",
   "execution_count": null,
   "metadata": {},
   "outputs": [],
   "source": [
    "def cercle(x,y):\n",
    "    return(x**2+y**2)\n",
    "\n",
    "def h(x,y):\n",
    "    return(x**2+2*y)\n",
    "\n",
    "X, Y = simple_contour(cercle, 0.75, 0.001)\n",
    "\n",
    "\n",
    "plt.plot(X,Y)\n",
    "plt.axis([-1,1,-1,2])\n",
    "plt.show()\n"
   ]
  },
  {
   "cell_type": "code",
   "execution_count": null,
   "metadata": {},
   "outputs": [],
   "source": [
    "def f(x):\n",
    "    return(x**2 - 2)\n",
    "\n",
    "find_seed(f, -1.75, 0, 1, 2**(-26))"
   ]
  },
  {
   "cell_type": "code",
   "execution_count": null,
   "metadata": {
    "collapsed": true
   },
   "outputs": [],
   "source": []
  },
  {
   "cell_type": "code",
   "execution_count": null,
   "metadata": {
    "collapsed": true
   },
   "outputs": [],
   "source": []
  }
 ],
 "metadata": {
  "kernelspec": {
   "display_name": "Python 3",
   "language": "python",
   "name": "python3"
  },
  "language_info": {
   "codemirror_mode": {
    "name": "ipython",
    "version": 3
   },
   "file_extension": ".py",
   "mimetype": "text/x-python",
   "name": "python",
   "nbconvert_exporter": "python",
   "pygments_lexer": "ipython3",
   "version": "3.6.3"
  }
 },
 "nbformat": 4,
 "nbformat_minor": 2
}
