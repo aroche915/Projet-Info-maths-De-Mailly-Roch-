{
 "cells": [
  {
   "cell_type": "raw",
   "metadata": {},
   "source": [
    "On pose g:t-->f(0,t). La condition raisonnable est que c soit compris entre g(0) et g(1). En effet, f est \n",
    "continuement différentiable, donc continue. On peut appliquer le TVI sur l'intervalle [0;1]."
   ]
  },
  {
   "cell_type": "code",
   "execution_count": null,
   "metadata": {},
   "outputs": [],
   "source": [
    "from maths import abs\n",
    "\n",
    "def find_seed(g, c=0, eps=2**(-26)):\n",
    "    \n",
    "    \"\"\"On réalise une dichotomie pour trouver une racine de g(t)-c\"\"\"\n",
    "    \n",
    "    a = 0\n",
    "    b = 1\n",
    "    t = (a+b)/2\n",
    "    \n",
    "    if g(0) > g(1):\n",
    "        if c > g(0) or c < g(1):\n",
    "            return(None)\n",
    "        \n",
    "        while abs(g(t)-c) > eps:\n",
    "            if g(t) > c:\n",
    "                a = t\n",
    "            else:\n",
    "                b = t\n",
    "            t = (a+b)/2\n",
    "\n",
    "    else :\n",
    "        if c < g(0) or c > g(1):\n",
    "            return(None)\n",
    "        \n",
    "        while abs(g(t)-c) > eps:\n",
    "            if g(t) > c:\n",
    "                b = t\n",
    "            else:\n",
    "                a = t\n",
    "            t = (a+b)/2\n",
    "            \n",
    "    return(t)"
   ]
  },
  {
   "cell_type": "raw",
   "metadata": {},
   "source": [
    "Pour cet algorithme, on parcourt l'axe des x et pour chaque x, on trouve un y qui convient à l'aide de la fonction codée précédemment."
   ]
  },
  {
   "cell_type": "code",
   "execution_count": null,
   "metadata": {},
   "outputs": [],
   "source": [
    "def simple_contour(f, c=0.0, delta=0.01):\n",
    "    X = []\n",
    "    Y = []\n",
    "    \n",
    "    for x in range(0,1,delta):\n",
    "        g = lambda t: f(x,t)\n",
    "        t = find_seed(g,c,2**(-26))\n",
    "        \n",
    "        if t == None:\n",
    "            return([],[])\n",
    "        else:\n",
    "            X.append(x)\n",
    "            Y.append(y)\n",
    "    return(X,Y)"
   ]
  }
 ],
 "metadata": {
  "kernelspec": {
   "display_name": "Python 3",
   "language": "python",
   "name": "python3"
  },
  "language_info": {
   "codemirror_mode": {
    "name": "ipython",
    "version": 3
   },
   "file_extension": ".py",
   "mimetype": "text/x-python",
   "name": "python",
   "nbconvert_exporter": "python",
   "pygments_lexer": "ipython3",
   "version": "3.7.3"
  }
 },
 "nbformat": 4,
 "nbformat_minor": 2
}
