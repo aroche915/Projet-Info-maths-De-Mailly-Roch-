{
 "cells": [
  {
   "cell_type": "code",
   "execution_count": 28,
   "metadata": {},
   "outputs": [],
   "source": [
    "#on importe les fonctions nécessaires pour la suite\n",
    "\n",
    "import autograd\n",
    "from autograd import numpy as np\n",
    "from numpy.polynomial import Polynomial\n",
    "from math import sqrt\n",
    "import matplotlib.pyplot as plt"
   ]
  },
  {
   "cell_type": "markdown",
   "metadata": {},
   "source": [
    "On pose g:t-->f(0,t). La condition raisonnable est que c soit compris entre g(0) et g(1). En effet, f est \n",
    "continuement différentiable, donc continue. On peut appliquer le TVI sur l'intervalle [0;1]."
   ]
  },
  {
   "cell_type": "code",
   "execution_count": 29,
   "metadata": {},
   "outputs": [],
   "source": [
    "def find_seed(g, c=0, a=0, b=1, eps=2**(-26)):\n",
    "    \n",
    "    \"\"\"On réalise une dichotomie pour trouver une racine de g(t)-c. Les paramètres de la fonction ont été\n",
    "    légèrement modifiés afin qu'elle soit plus facilement utilisable par la suite.\"\"\"\n",
    "    \n",
    "    t = (a+b)/2\n",
    "    \n",
    "    if g(a) > g(b):\n",
    "        if c > g(a) or c < g(b):\n",
    "            return(None)\n",
    "        \n",
    "        while b-a > eps: #on veut une précision inférieure à eps\n",
    "            if g(t) > c:\n",
    "                a = t\n",
    "            else:\n",
    "                b = t\n",
    "            t = (a+b)/2\n",
    "\n",
    "    else :\n",
    "        if c < g(a) or c > g(b):\n",
    "            return(None)\n",
    "        \n",
    "        while b-a > eps:\n",
    "            if g(t) > c:\n",
    "                b = t\n",
    "            else:\n",
    "                a = t\n",
    "            t = (a+b)/2\n",
    "            \n",
    "    return(t)"
   ]
  },
  {
   "cell_type": "markdown",
   "metadata": {},
   "source": [
    "\n",
    "L'algorithme précédent fonctionne, mais il ne permet pas de traiter tous les types de courbes (ligne de niveau qui fait \"demi-tour\"). Il faut donc modifier l'algorithme en passant par une autre méthode. Nous allons utiliser le gradient de la fonction f : les lignes de niveau sont perpendiculaires au gradient. A chaque point, on calcule le gradient local [a;b] et on veut que le nouveau point [x[n];y[n]] vérifie deux conditions :\n",
    "\n",
    "a*(x[n]-x[n-1]) + b*(y[n]-y[n-1]) = 0 (1) (ligne de niveau perpendiculaire au gradient)\n",
    "\n",
    "(x[n]-x[n-1])^2 + (y[n]-y[n-1])^2 = delta^2 (2) (le nouveau point appartient au cercle de rayon delta et de centre l'ancien point ; ainsi on est sûrs que la distance entre deux points sera de delta). \n",
    "\n",
    "On va résoudre ce système à l'aide des polynômes Python.\n",
    "Il va falloir choisir entre les deux solutions proposées.\n"
   ]
  },
  {
   "cell_type": "code",
   "execution_count": 30,
   "metadata": {},
   "outputs": [],
   "source": [
    "def le_plus_loin(X, Y, x1, x2, y1, y2):\n",
    "    \"\"\"On va faire appel à cette fonction pour déterminer laquelle des deux solutions garder ; son principe est\n",
    "    explicité par la suite\"\"\"\n",
    "    \n",
    "    x = X[-2]\n",
    "    y = Y[-2]\n",
    "    d1 = (x1-x)**2 + (y1-y)**2\n",
    "    d2 = (x2-x)**2 + (y2-y)**2\n",
    "    if d1 > d2:\n",
    "        return(x1, y1)\n",
    "    return(x2, y2)"
   ]
  },
  {
   "cell_type": "code",
   "execution_count": 31,
   "metadata": {},
   "outputs": [],
   "source": [
    "def grad_f(f,x,y):\n",
    "    \"\"\"La fonction pour calculer le gradient d'une fonction à deux variables\"\"\"\n",
    "    g = autograd.grad\n",
    "    return(np.r_[g(f,0)(x,y),g(f,1)(x,y)])"
   ]
  },
  {
   "cell_type": "code",
   "execution_count": 32,
   "metadata": {},
   "outputs": [],
   "source": [
    "def simple_contour(f, c=0.0, delta=0.01):\n",
    "    X = []\n",
    "    Y = []\n",
    "    g = lambda t: f(0.0,t)\n",
    "    X.append(0.0)\n",
    "    Y.append(find_seed(g, c, 2**(-26)))\n",
    "    if Y[-1] == None:\n",
    "        return([], [])\n",
    "    \n",
    "    for k in range(100): #condition d'arrêt, pas encore optimale\n",
    "        \n",
    "        a,b = grad_f(f,X[-1],Y[-1])\n",
    "        x0 = X[-1]\n",
    "        y0 = Y[-1]\n",
    "   \n",
    "\n",
    "#on va se servir des polynômes Python afin de résoudre le système de 2 équations à 2 inconnues explicité plus haut.\n",
    "\n",
    "        if abs(a) >= (2**-13) : #si a est trop petit, le coefficient directeur de la droite sera disproportionné\n",
    "                                #par rapport à l'ordonnée à l'origine de la droite\n",
    "             p = Polynomial([y0**2-(delta*a/b)**2, -2*y0, 1])\n",
    "             y1, y2 = p.roots()\n",
    "             \n",
    "             if y1.imag != 0.0:\n",
    "                 return(X,Y) #il n'y a plus de solution\n",
    "             \n",
    "             x1 = x0-b*(y1-y0)/a\n",
    "             x2 = x0-b*(y2-y0)/a\n",
    "                \n",
    "             if k == 0:\n",
    "            #on verra dans la suite que notre fonction le_plus_loin nécessite d'avoir 2 points dans X et Y\n",
    "            #on initialise donc manuellement le_plus_loin en choisissant arbitrairement le sens de parcours\n",
    "                Y.append(max(y1,y2))\n",
    "                X.append(x0-b*(max(y1,y2)-y0)/a)\n",
    "                \n",
    "                \n",
    "#On a deux solutions au système (rang n+1), on veut n'en garder qu'une. On regarde quel point est le plus éloigné \n",
    "#du point trouvé au rang n-1, pour s'assurer qu'on ne revient pas en arrière. Pour cela on utilise \n",
    "#le_plus_loin, définie plus haut.\n",
    "\n",
    "\n",
    "             else:\n",
    "                x, y = le_plus_loin(X, Y, x1, x2, y1, y2)\n",
    "            \n",
    "             \n",
    "             \n",
    "#Problème : le point trouvé peut être en réalité assez éloigné de la courbe de niveau, à cause de variations\n",
    "#fortes de f. Pour y remédier, nous proposons la démarche suivante :\n",
    "#On a trouvé \" vers où\" se situait notre prochain point. On va parcourir le cercle de centre X[-1] et de \n",
    "#rayon delta uniquement du côté de la courbe qui nous intéresse, i.e à droite où à gauche de l'orthogonal au gradient. \n",
    "#Pour ce faire,on passe en coordonnées polaires : x = rcos(teta) et y = rsin(teta). Avec r la distance algébrique entre\n",
    "#nos 2 points (ce qui nous permet d'être d'un côté ou de l'autre) et teta variant de alpha + pi/2 à alpha + 3pi/2 \n",
    "#alpha étant l'angle entre le gradient et l'axe des abscisses. En définissant ansi teta, on est sûr de parcourir le \n",
    "#demi-cercle de base l'orthogonal du gradient.\n",
    "             \n",
    "                alpha = sqrt(a**2+b**2)/a\n",
    "             \n",
    "                sgn = np.sign(x-x0) # on détermine la direction vers laquelle se déplacer\n",
    "                r = sgn*delta\n",
    "                g = lambda theta: f(r*np.cos(theta),r*np.sin(theta))\n",
    "             \n",
    "                theta = find_seed(g, c, alpha+np.pi/2.0, alpha+3.0*np.pi/2.0, 2**(-26))\n",
    "                if theta == None:\n",
    "                    return(\"oups\", \"oups\")\n",
    "                x = r*np.cos(theta)\n",
    "                y = r*np.sin(theta)\n",
    "             \n",
    "                X.append(x)\n",
    "                Y.append(y)\n",
    "\n",
    "        elif b != 0.0:\n",
    "#d'après l'équation (1) (cf plus haut) y = y0\n",
    "             Y.append(y0)\n",
    "             p = Polynomial([x0**2-delta**2, -2*x0, 1])\n",
    "             x1, x2 = p.roots()\n",
    "             \n",
    "             if x1.imag != 0.0:\n",
    "                 Y.pop()\n",
    "                 return(X,Y)\n",
    "            \n",
    "             if k == 0:\n",
    "                X.append(max(x1,x2))\n",
    "                \n",
    "             else:\n",
    "                \n",
    "                x, z = le_plus_loin(X, Y, x1, x2, y0, y0)\n",
    "             \n",
    "                sgn = np.sign(x-x0) # on détermine la direction vers laquelle se déplacer\n",
    "                r = sgn*delta\n",
    "                g = lambda teta: f(r*np.cos(teta),r*np.sin(teta))\n",
    "             \n",
    "                teta = find_seed(g, c, 0.0, np.pi, 2**(-26))\n",
    "                x = r*np.cos(teta)\n",
    "             \n",
    "                X.append(x)\n",
    "             \n",
    "        elif b == 0.0:\n",
    "             return(X, Y)\n",
    "    \n",
    "    return(X, Y)\n",
    "                   "
   ]
  },
  {
   "cell_type": "markdown",
   "metadata": {},
   "source": [
    "Testons maintenant nos algorithmes avec plusieurs fonctions"
   ]
  },
  {
   "cell_type": "code",
   "execution_count": 35,
   "metadata": {},
   "outputs": [
    {
     "name": "stdout",
     "output_type": "stream",
     "text": [
      "oups oups\n"
     ]
    },
    {
     "ename": "ValueError",
     "evalue": "Unrecognized character u in format string",
     "output_type": "error",
     "traceback": [
      "\u001b[0;31m---------------------------------------------------------------------------\u001b[0m",
      "\u001b[0;31mValueError\u001b[0m                                Traceback (most recent call last)",
      "\u001b[0;32m<ipython-input-35-52a99d7ea4f6>\u001b[0m in \u001b[0;36m<module>\u001b[0;34m\u001b[0m\n\u001b[1;32m      5\u001b[0m \u001b[0mprint\u001b[0m\u001b[0;34m(\u001b[0m\u001b[0mX\u001b[0m\u001b[0;34m,\u001b[0m \u001b[0mY\u001b[0m\u001b[0;34m)\u001b[0m\u001b[0;34m\u001b[0m\u001b[0;34m\u001b[0m\u001b[0m\n\u001b[1;32m      6\u001b[0m \u001b[0;34m\u001b[0m\u001b[0m\n\u001b[0;32m----> 7\u001b[0;31m \u001b[0mplt\u001b[0m\u001b[0;34m.\u001b[0m\u001b[0mplot\u001b[0m\u001b[0;34m(\u001b[0m\u001b[0mX\u001b[0m\u001b[0;34m,\u001b[0m\u001b[0mY\u001b[0m\u001b[0;34m)\u001b[0m\u001b[0;34m\u001b[0m\u001b[0;34m\u001b[0m\u001b[0m\n\u001b[0m\u001b[1;32m      8\u001b[0m \u001b[0mplt\u001b[0m\u001b[0;34m.\u001b[0m\u001b[0maxis\u001b[0m\u001b[0;34m(\u001b[0m\u001b[0;34m[\u001b[0m\u001b[0;34m-\u001b[0m\u001b[0;36m5.\u001b[0m\u001b[0;34m,\u001b[0m\u001b[0;36m5.\u001b[0m\u001b[0;34m,\u001b[0m\u001b[0;34m-\u001b[0m\u001b[0;36m5.\u001b[0m\u001b[0;34m,\u001b[0m\u001b[0;36m5.\u001b[0m\u001b[0;34m]\u001b[0m\u001b[0;34m)\u001b[0m\u001b[0;34m\u001b[0m\u001b[0;34m\u001b[0m\u001b[0m\n\u001b[1;32m      9\u001b[0m \u001b[0mplt\u001b[0m\u001b[0;34m.\u001b[0m\u001b[0mshow\u001b[0m\u001b[0;34m(\u001b[0m\u001b[0;34m)\u001b[0m\u001b[0;34m\u001b[0m\u001b[0;34m\u001b[0m\u001b[0m\n",
      "\u001b[0;32m/Applications/anaconda3/lib/python3.7/site-packages/matplotlib/pyplot.py\u001b[0m in \u001b[0;36mplot\u001b[0;34m(scalex, scaley, data, *args, **kwargs)\u001b[0m\n\u001b[1;32m   2787\u001b[0m     return gca().plot(\n\u001b[1;32m   2788\u001b[0m         *args, scalex=scalex, scaley=scaley, **({\"data\": data} if data\n\u001b[0;32m-> 2789\u001b[0;31m         is not None else {}), **kwargs)\n\u001b[0m\u001b[1;32m   2790\u001b[0m \u001b[0;34m\u001b[0m\u001b[0m\n\u001b[1;32m   2791\u001b[0m \u001b[0;34m\u001b[0m\u001b[0m\n",
      "\u001b[0;32m/Applications/anaconda3/lib/python3.7/site-packages/matplotlib/axes/_axes.py\u001b[0m in \u001b[0;36mplot\u001b[0;34m(self, scalex, scaley, data, *args, **kwargs)\u001b[0m\n\u001b[1;32m   1664\u001b[0m         \"\"\"\n\u001b[1;32m   1665\u001b[0m         \u001b[0mkwargs\u001b[0m \u001b[0;34m=\u001b[0m \u001b[0mcbook\u001b[0m\u001b[0;34m.\u001b[0m\u001b[0mnormalize_kwargs\u001b[0m\u001b[0;34m(\u001b[0m\u001b[0mkwargs\u001b[0m\u001b[0;34m,\u001b[0m \u001b[0mmlines\u001b[0m\u001b[0;34m.\u001b[0m\u001b[0mLine2D\u001b[0m\u001b[0;34m.\u001b[0m\u001b[0m_alias_map\u001b[0m\u001b[0;34m)\u001b[0m\u001b[0;34m\u001b[0m\u001b[0;34m\u001b[0m\u001b[0m\n\u001b[0;32m-> 1666\u001b[0;31m         \u001b[0mlines\u001b[0m \u001b[0;34m=\u001b[0m \u001b[0;34m[\u001b[0m\u001b[0;34m*\u001b[0m\u001b[0mself\u001b[0m\u001b[0;34m.\u001b[0m\u001b[0m_get_lines\u001b[0m\u001b[0;34m(\u001b[0m\u001b[0;34m*\u001b[0m\u001b[0margs\u001b[0m\u001b[0;34m,\u001b[0m \u001b[0mdata\u001b[0m\u001b[0;34m=\u001b[0m\u001b[0mdata\u001b[0m\u001b[0;34m,\u001b[0m \u001b[0;34m**\u001b[0m\u001b[0mkwargs\u001b[0m\u001b[0;34m)\u001b[0m\u001b[0;34m]\u001b[0m\u001b[0;34m\u001b[0m\u001b[0;34m\u001b[0m\u001b[0m\n\u001b[0m\u001b[1;32m   1667\u001b[0m         \u001b[0;32mfor\u001b[0m \u001b[0mline\u001b[0m \u001b[0;32min\u001b[0m \u001b[0mlines\u001b[0m\u001b[0;34m:\u001b[0m\u001b[0;34m\u001b[0m\u001b[0;34m\u001b[0m\u001b[0m\n\u001b[1;32m   1668\u001b[0m             \u001b[0mself\u001b[0m\u001b[0;34m.\u001b[0m\u001b[0madd_line\u001b[0m\u001b[0;34m(\u001b[0m\u001b[0mline\u001b[0m\u001b[0;34m)\u001b[0m\u001b[0;34m\u001b[0m\u001b[0;34m\u001b[0m\u001b[0m\n",
      "\u001b[0;32m/Applications/anaconda3/lib/python3.7/site-packages/matplotlib/axes/_base.py\u001b[0m in \u001b[0;36m__call__\u001b[0;34m(self, *args, **kwargs)\u001b[0m\n\u001b[1;32m    223\u001b[0m                 \u001b[0mthis\u001b[0m \u001b[0;34m+=\u001b[0m \u001b[0margs\u001b[0m\u001b[0;34m[\u001b[0m\u001b[0;36m0\u001b[0m\u001b[0;34m]\u001b[0m\u001b[0;34m,\u001b[0m\u001b[0;34m\u001b[0m\u001b[0;34m\u001b[0m\u001b[0m\n\u001b[1;32m    224\u001b[0m                 \u001b[0margs\u001b[0m \u001b[0;34m=\u001b[0m \u001b[0margs\u001b[0m\u001b[0;34m[\u001b[0m\u001b[0;36m1\u001b[0m\u001b[0;34m:\u001b[0m\u001b[0;34m]\u001b[0m\u001b[0;34m\u001b[0m\u001b[0;34m\u001b[0m\u001b[0m\n\u001b[0;32m--> 225\u001b[0;31m             \u001b[0;32myield\u001b[0m \u001b[0;32mfrom\u001b[0m \u001b[0mself\u001b[0m\u001b[0;34m.\u001b[0m\u001b[0m_plot_args\u001b[0m\u001b[0;34m(\u001b[0m\u001b[0mthis\u001b[0m\u001b[0;34m,\u001b[0m \u001b[0mkwargs\u001b[0m\u001b[0;34m)\u001b[0m\u001b[0;34m\u001b[0m\u001b[0;34m\u001b[0m\u001b[0m\n\u001b[0m\u001b[1;32m    226\u001b[0m \u001b[0;34m\u001b[0m\u001b[0m\n\u001b[1;32m    227\u001b[0m     \u001b[0;32mdef\u001b[0m \u001b[0mget_next_color\u001b[0m\u001b[0;34m(\u001b[0m\u001b[0mself\u001b[0m\u001b[0;34m)\u001b[0m\u001b[0;34m:\u001b[0m\u001b[0;34m\u001b[0m\u001b[0;34m\u001b[0m\u001b[0m\n",
      "\u001b[0;32m/Applications/anaconda3/lib/python3.7/site-packages/matplotlib/axes/_base.py\u001b[0m in \u001b[0;36m_plot_args\u001b[0;34m(self, tup, kwargs)\u001b[0m\n\u001b[1;32m    364\u001b[0m         \u001b[0mret\u001b[0m \u001b[0;34m=\u001b[0m \u001b[0;34m[\u001b[0m\u001b[0;34m]\u001b[0m\u001b[0;34m\u001b[0m\u001b[0;34m\u001b[0m\u001b[0m\n\u001b[1;32m    365\u001b[0m         \u001b[0;32mif\u001b[0m \u001b[0mlen\u001b[0m\u001b[0;34m(\u001b[0m\u001b[0mtup\u001b[0m\u001b[0;34m)\u001b[0m \u001b[0;34m>\u001b[0m \u001b[0;36m1\u001b[0m \u001b[0;32mand\u001b[0m \u001b[0misinstance\u001b[0m\u001b[0;34m(\u001b[0m\u001b[0mtup\u001b[0m\u001b[0;34m[\u001b[0m\u001b[0;34m-\u001b[0m\u001b[0;36m1\u001b[0m\u001b[0;34m]\u001b[0m\u001b[0;34m,\u001b[0m \u001b[0mstr\u001b[0m\u001b[0;34m)\u001b[0m\u001b[0;34m:\u001b[0m\u001b[0;34m\u001b[0m\u001b[0;34m\u001b[0m\u001b[0m\n\u001b[0;32m--> 366\u001b[0;31m             \u001b[0mlinestyle\u001b[0m\u001b[0;34m,\u001b[0m \u001b[0mmarker\u001b[0m\u001b[0;34m,\u001b[0m \u001b[0mcolor\u001b[0m \u001b[0;34m=\u001b[0m \u001b[0m_process_plot_format\u001b[0m\u001b[0;34m(\u001b[0m\u001b[0mtup\u001b[0m\u001b[0;34m[\u001b[0m\u001b[0;34m-\u001b[0m\u001b[0;36m1\u001b[0m\u001b[0;34m]\u001b[0m\u001b[0;34m)\u001b[0m\u001b[0;34m\u001b[0m\u001b[0;34m\u001b[0m\u001b[0m\n\u001b[0m\u001b[1;32m    367\u001b[0m             \u001b[0mtup\u001b[0m \u001b[0;34m=\u001b[0m \u001b[0mtup\u001b[0m\u001b[0;34m[\u001b[0m\u001b[0;34m:\u001b[0m\u001b[0;34m-\u001b[0m\u001b[0;36m1\u001b[0m\u001b[0;34m]\u001b[0m\u001b[0;34m\u001b[0m\u001b[0;34m\u001b[0m\u001b[0m\n\u001b[1;32m    368\u001b[0m         \u001b[0;32melif\u001b[0m \u001b[0mlen\u001b[0m\u001b[0;34m(\u001b[0m\u001b[0mtup\u001b[0m\u001b[0;34m)\u001b[0m \u001b[0;34m==\u001b[0m \u001b[0;36m3\u001b[0m\u001b[0;34m:\u001b[0m\u001b[0;34m\u001b[0m\u001b[0;34m\u001b[0m\u001b[0m\n",
      "\u001b[0;32m/Applications/anaconda3/lib/python3.7/site-packages/matplotlib/axes/_base.py\u001b[0m in \u001b[0;36m_process_plot_format\u001b[0;34m(fmt)\u001b[0m\n\u001b[1;32m    104\u001b[0m         \u001b[0;32melse\u001b[0m\u001b[0;34m:\u001b[0m\u001b[0;34m\u001b[0m\u001b[0;34m\u001b[0m\u001b[0m\n\u001b[1;32m    105\u001b[0m             raise ValueError(\n\u001b[0;32m--> 106\u001b[0;31m                 'Unrecognized character %c in format string' % c)\n\u001b[0m\u001b[1;32m    107\u001b[0m \u001b[0;34m\u001b[0m\u001b[0m\n\u001b[1;32m    108\u001b[0m     \u001b[0;32mif\u001b[0m \u001b[0mlinestyle\u001b[0m \u001b[0;32mis\u001b[0m \u001b[0;32mNone\u001b[0m \u001b[0;32mand\u001b[0m \u001b[0mmarker\u001b[0m \u001b[0;32mis\u001b[0m \u001b[0;32mNone\u001b[0m\u001b[0;34m:\u001b[0m\u001b[0;34m\u001b[0m\u001b[0;34m\u001b[0m\u001b[0m\n",
      "\u001b[0;31mValueError\u001b[0m: Unrecognized character u in format string"
     ]
    },
    {
     "data": {
      "image/png": "[encoded data removed]",
      "text/plain": [
       "<Figure size 432x288 with 1 Axes>"
      ]
     },
     "metadata": {
      "needs_background": "light"
     },
     "output_type": "display_data"
    }
   ],
   "source": [
    "def cercle(x,y):\n",
    "    return(x**2+y**2)\n",
    "\n",
    "X, Y = simple_contour(cercle, 0.25, 0.001)\n",
    "print(X, Y)\n",
    "\n",
    "plt.plot(X,Y)\n",
    "plt.axis([-5.,5.,-5.,5.])\n",
    "plt.show()\n"
   ]
  },
  {
   "cell_type": "code",
   "execution_count": 24,
   "metadata": {},
   "outputs": [
    {
     "data": {
      "text/plain": [
       "0.5000000074505806"
      ]
     },
     "execution_count": 24,
     "metadata": {},
     "output_type": "execute_result"
    }
   ],
   "source": [
    "def f(x):\n",
    "    return(x**2 - 2)\n",
    "\n",
    "find_seed(f, -1.75, 0, 1, 2**(-26))"
   ]
  },
  {
   "cell_type": "code",
   "execution_count": null,
   "metadata": {},
   "outputs": [],
   "source": []
  },
  {
   "cell_type": "code",
   "execution_count": null,
   "metadata": {},
   "outputs": [],
   "source": []
  }
 ],
 "metadata": {
  "kernelspec": {
   "display_name": "Python 3",
   "language": "python",
   "name": "python3"
  },
  "language_info": {
   "codemirror_mode": {
    "name": "ipython",
    "version": 3
   },
   "file_extension": ".py",
   "mimetype": "text/x-python",
   "name": "python",
   "nbconvert_exporter": "python",
   "pygments_lexer": "ipython3",
   "version": "3.7.3"
  }
 },
 "nbformat": 4,
 "nbformat_minor": 2
}
